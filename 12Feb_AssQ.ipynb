{
 "cells": [
  {
   "cell_type": "markdown",
   "id": "318a72ab",
   "metadata": {},
   "source": [
    "- ### Q1. What is an Exception in Python? Write the difference between Exceptions and Syntax Errors.."
   ]
  },
  {
   "cell_type": "markdown",
   "id": "0f266e86",
   "metadata": {},
   "source": [
    "- Exception is a Runtime error that occurs when the execution of a program encounters a situation that it cannot handle. \n",
    "\n",
    "\n",
    "- Difference between Exceptions And Syntax Errors:\n",
    "\n",
    "1. Exceptions:\n",
    "\n",
    "- Exceptions occur during the runtime of a program when an unexpected situations arises.\n",
    "- Here is some example, ZeroDivisionError, IndexError,FileNotFoundError.\n",
    "\n",
    "\n",
    "2. Syntax Errors :\n",
    "\n",
    "\n",
    "- Syntax errors occur during the parsing phase,before the program begins execution.\n",
    "- Examples of syntax errors include IndentationError,SyntaxError,NameError.."
   ]
  },
  {
   "cell_type": "markdown",
   "id": "726c5499",
   "metadata": {},
   "source": [
    "- ### Q2. What happens when an exception is not handled ? Explain with an example.."
   ]
  },
  {
   "cell_type": "markdown",
   "id": "907679a0",
   "metadata": {},
   "source": [
    "- Ans: When an exception is not handle in a Python Program terminating abruptly, and an error traceback is displayed . This traceback provides information about the exception, including its type, the line where it occurred, and the call stack leading to the point of the exception.\n"
   ]
  },
  {
   "cell_type": "code",
   "execution_count": 2,
   "id": "91cae0aa",
   "metadata": {},
   "outputs": [
    {
     "name": "stdout",
     "output_type": "stream",
     "text": [
      "Enter the First Number : 4\n",
      "Enter the Second Number :5\n",
      "Result of Division : 0.8\n"
     ]
    }
   ],
   "source": [
    "def divide_numbers(a, b):\n",
    "    result = a / b\n",
    "    return result\n",
    "\n",
    "try:\n",
    "    num1 = int(input(\"Enter the First Number : \" ))\n",
    "    num2 = int(input(\"Enter the Second Number :\" ))\n",
    "    result = divide_numbers(num1, num2)\n",
    "    print(\"Result of Division :\" ,result)\n",
    "    \n",
    "except ValueError as ve:\n",
    "    print(\"Error: Invalid input. Please Enter valid integers.\")\n",
    "    "
   ]
  },
  {
   "cell_type": "markdown",
   "id": "9307d789",
   "metadata": {},
   "source": [
    " - ## Which Python statements are used to catch and handle exceptions?Explain with an example."
   ]
  },
  {
   "cell_type": "markdown",
   "id": "4a931ce8",
   "metadata": {},
   "source": [
    "- Ans : To catch and handle exceptions in Python, you use the try, except, and optionally else and finally statements. These statements are part of a try-except block, which allows you to write code that may potentially raise an exception, and then handle that exception gracefully, preventing the program from crashing."
   ]
  },
  {
   "cell_type": "code",
   "execution_count": 4,
   "id": "218662cf",
   "metadata": {},
   "outputs": [
    {
     "name": "stdout",
     "output_type": "stream",
     "text": [
      "Enter the first number: 6\n",
      "Enter the second number: 4\n",
      "Result of Division: 1.5\n",
      "Program execution completed.\n"
     ]
    }
   ],
   "source": [
    "def divide_numbers(a, b):\n",
    "    result = a / b\n",
    "    return result\n",
    "\n",
    "try:\n",
    "    num1 = int(input(\"Enter the first number: \"))\n",
    "    num2 = int(input(\"Enter the second number: \"))\n",
    "    result = divide_numbers(num1, num2)\n",
    "\n",
    "    \n",
    "except ValueError as ve:\n",
    "    print(\"Error: Invalid input. please enter valid integers.\")\n",
    "else:\n",
    "    print(\"Result of Division:\", result)\n",
    "    \n",
    "finally:\n",
    "    print(\"Program execution completed.\")\n",
    "    \n"
   ]
  },
  {
   "cell_type": "markdown",
   "id": "b3fc8dc3",
   "metadata": {},
   "source": [
    "- ### Explain with an example:\n",
    "\n",
    "a: try and else\n",
    "b: finally\n",
    "c: raise\n"
   ]
  },
  {
   "cell_type": "markdown",
   "id": "a32a5aaa",
   "metadata": {},
   "source": [
    "- Try : The try block is used to enclose the code that might raise an exception.\n",
    "\n",
    "- Except :  If an exception occurs within the try block, it is caught and handled by the corresponding except block. \n",
    "\n",
    "- Else :  The else block, if present, is executed only if no exception occurs inside the try block."
   ]
  },
  {
   "cell_type": "code",
   "execution_count": 8,
   "id": "e6e97423",
   "metadata": {},
   "outputs": [
    {
     "name": "stdout",
     "output_type": "stream",
     "text": [
      "Enter The number one: 6\n",
      "Enter The number Two: 2\n",
      "Result of Division: 3\n"
     ]
    }
   ],
   "source": [
    "def divide_numbers(a , b):\n",
    "    result = a // b\n",
    "    return result\n",
    "\n",
    "try :\n",
    "    num1 = int(input(\"Enter The number one: \"))\n",
    "    num2 = int(input(\"Enter The number Two: \"))\n",
    "    \n",
    "    \n",
    "    result = divide_numbers(num1, num2)\n",
    "\n",
    "except ValueError as ve:\n",
    "    print(\"Error: Invalid input. Please enter valid integers.\")\n",
    "else:\n",
    "    print(\"Result of Division:\",result )"
   ]
  },
  {
   "cell_type": "markdown",
   "id": "28dd38a6",
   "metadata": {},
   "source": [
    " - ### What are custom Exceptions in Python? Why do we need Custom Exceptions ? Explain With an example."
   ]
  },
  {
   "cell_type": "markdown",
   "id": "0f50d484",
   "metadata": {},
   "source": [
    "- Custom exceptions in Python are user-defined exception classes created to handle specific exceptional situations that are not covered by the built-in Python exceptions. By creating custom exceptions, developers can provide more descriptive and meaningful error messages that are relevant to their application's domain or specific use case."
   ]
  },
  {
   "cell_type": "code",
   "execution_count": 9,
   "id": "f40f7c12",
   "metadata": {},
   "outputs": [
    {
     "name": "stdout",
     "output_type": "stream",
     "text": [
      "Enter the amount to withdraw: 6000\n",
      "Error: Insufficient funds. Cannot withdraw 6000. Your current balance is 1000.\n"
     ]
    }
   ],
   "source": [
    "class InsufficientFundsError(Exception):\n",
    "    def __init__(self, amount, balance):\n",
    "        self.amount = amount\n",
    "        self.balance = balance\n",
    "\n",
    "    def __str__(self):\n",
    "        return f\"Insufficient funds. Cannot withdraw {self.amount}. Your current balance is {self.balance}.\"\n",
    "\n",
    "\n",
    "def withdraw_amount(account_balance, amount_to_withdraw):\n",
    "    if amount_to_withdraw > account_balance:\n",
    "        raise InsufficientFundsError(amount_to_withdraw, account_balance)\n",
    "    return account_balance - amount_to_withdraw\n",
    "\n",
    "\n",
    "try:\n",
    "    balance = 1000\n",
    "    amount = int(input(\"Enter the amount to withdraw: \"))\n",
    "    new_balance = withdraw_amount(balance, amount)\n",
    "    print(\"Withdrawal successful. New balance:\", new_balance)\n",
    "except InsufficientFundsError as ife:\n",
    "    print(\"Error:\", ife)\n",
    "except ValueError:\n",
    "    print(\"Error: Invalid input. Please enter a valid integer amount.\")\n"
   ]
  },
  {
   "cell_type": "markdown",
   "id": "f58a6270",
   "metadata": {},
   "source": [
    "- ### Create a custom excetions class.Use this class to handle an exception."
   ]
  },
  {
   "cell_type": "code",
   "execution_count": 11,
   "id": "adab699b",
   "metadata": {},
   "outputs": [
    {
     "name": "stdout",
     "output_type": "stream",
     "text": [
      "Enter a non-negative number: 4\n",
      "The square root of 4.0 is 2.00.\n"
     ]
    }
   ],
   "source": [
    "class InvalidInputError(Exception):\n",
    "    def __init__(self, message):\n",
    "        self.message = message\n",
    "\n",
    "    def __str__(self):\n",
    "        return f\"Invalid Input Error: {self.message}\"\n",
    "\n",
    "\n",
    "def calculate_square_root(num):\n",
    "    if num < 0:\n",
    "        raise InvalidInputError(\"Input must be a non-negative number.\")\n",
    "    return num ** 0.5\n",
    "\n",
    "\n",
    "try:\n",
    "    user_input = float(input(\"Enter a non-negative number: \"))\n",
    "    result = calculate_square_root(user_input)\n",
    "    print(f\"The square root of {user_input} is {result:.2f}.\")\n",
    "except InvalidInputError as iie:\n",
    "    print(\"Error:\", iie)\n",
    "except ValueError:\n",
    "    print(\"Error: Invalid input. Please enter a valid number.\")\n"
   ]
  },
  {
   "cell_type": "code",
   "execution_count": null,
   "id": "c5450bdf",
   "metadata": {},
   "outputs": [],
   "source": []
  }
 ],
 "metadata": {
  "kernelspec": {
   "display_name": "Python 3 (ipykernel)",
   "language": "python",
   "name": "python3"
  },
  "language_info": {
   "codemirror_mode": {
    "name": "ipython",
    "version": 3
   },
   "file_extension": ".py",
   "mimetype": "text/x-python",
   "name": "python",
   "nbconvert_exporter": "python",
   "pygments_lexer": "ipython3",
   "version": "3.11.2"
  }
 },
 "nbformat": 4,
 "nbformat_minor": 5
}
